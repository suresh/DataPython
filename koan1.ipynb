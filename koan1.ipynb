print("Hello IPython")

def square(input_var):
    return input_var * input_var

print square(5)
print 5 ** 2

%timeit square(5)
%timeit 5 ** 2
