print("Hello IPython")


def square(input_var):
    return input_var * input_var
